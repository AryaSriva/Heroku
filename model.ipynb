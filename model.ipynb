{
 "cells": [
  {
   "cell_type": "code",
   "execution_count": 3,
   "metadata": {},
   "outputs": [],
   "source": [
    "from sklearn import linear_model\n",
    "import pandas as pd\n",
    "import numpy as np\n",
    "import pickle\n",
    "# build model for predicting price charged by Pink Cab in Boston\n",
    "df = pd.read_csv(\"finalCabData.csv\")\n",
    "filteredDf = df[(df[\"City\"] == \"BOSTON MA\")]\n",
    "filteredDf = filteredDf[filteredDf[\"Company\"] == \"Pink Cab\"]\n",
    "x = np.array(filteredDf[[\"KM Travelled\", \"Cost of Trip\"]])\n",
    "y = np.array(filteredDf[\"Price Charged\"])\n",
    "model = linear_model.LinearRegression()\n",
    "model.fit(x, y)\n",
    "#save model to pickle file\n",
    "pickle.dump(model, open(\"model.pkl\", \"wb\"))"
   ]
  }
 ],
 "metadata": {
  "kernelspec": {
   "display_name": "Python 3",
   "language": "python",
   "name": "python3"
  },
  "language_info": {
   "codemirror_mode": {
    "name": "ipython",
    "version": 3
   },
   "file_extension": ".py",
   "mimetype": "text/x-python",
   "name": "python",
   "nbconvert_exporter": "python",
   "pygments_lexer": "ipython3",
   "version": "3.12.1"
  }
 },
 "nbformat": 4,
 "nbformat_minor": 2
}
